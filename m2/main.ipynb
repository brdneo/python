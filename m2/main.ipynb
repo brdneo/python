{
 "cells": [
  {
   "cell_type": "code",
   "execution_count": 2,
   "metadata": {},
   "outputs": [
    {
     "name": "stdout",
     "output_type": "stream",
     "text": [
      "O faturamento da loja foi 2000. O custo da loja foi 500. Assim, o lucro da loja foi 1500\n",
      "O faturamento da loja foi 2000. O custo da loja foi 500. Assim, o lucro da loja foi 1500\n"
     ]
    }
   ],
   "source": [
    "faturamento = 2000\n",
    "custo = 500\n",
    "lucro = faturamento - custo\n",
    "\n",
    "# format\n",
    "print(\"O faturamento da loja foi {}. O custo da loja foi {}. Assim, o lucro da loja foi {}\". \n",
    "      format(faturamento, custo, lucro))\n",
    "\n",
    "# f-string\n",
    "print(f\"O faturamento da loja foi {faturamento}. O custo da loja foi {custo}. Assim, o lucro da loja foi {lucro}\")"
   ]
  }
 ],
 "metadata": {
  "kernelspec": {
   "display_name": "Python 3",
   "language": "python",
   "name": "python3"
  },
  "language_info": {
   "codemirror_mode": {
    "name": "ipython",
    "version": 3
   },
   "file_extension": ".py",
   "mimetype": "text/x-python",
   "name": "python",
   "nbconvert_exporter": "python",
   "pygments_lexer": "ipython3",
   "version": "3.10.12"
  }
 },
 "nbformat": 4,
 "nbformat_minor": 2
}
